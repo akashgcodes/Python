{
 "cells": [
  {
   "cell_type": "code",
   "execution_count": 1,
   "id": "7577443c",
   "metadata": {},
   "outputs": [],
   "source": [
    "import requests"
   ]
  },
  {
   "cell_type": "code",
   "execution_count": 3,
   "id": "b3bd659e",
   "metadata": {},
   "outputs": [],
   "source": [
    "result = requests.get(\"http://www.example.com\")"
   ]
  },
  {
   "cell_type": "code",
   "execution_count": 4,
   "id": "289a3749",
   "metadata": {},
   "outputs": [
    {
     "data": {
      "text/plain": [
       "requests.models.Response"
      ]
     },
     "execution_count": 4,
     "metadata": {},
     "output_type": "execute_result"
    }
   ],
   "source": [
    "type(result)"
   ]
  },
  {
   "cell_type": "code",
   "execution_count": 5,
   "id": "f2eb52e9",
   "metadata": {},
   "outputs": [
    {
     "data": {
      "text/plain": [
       "'<!doctype html>\\n<html>\\n<head>\\n    <title>Example Domain</title>\\n\\n    <meta charset=\"utf-8\" />\\n    <meta http-equiv=\"Content-type\" content=\"text/html; charset=utf-8\" />\\n    <meta name=\"viewport\" content=\"width=device-width, initial-scale=1\" />\\n    <style type=\"text/css\">\\n    body {\\n        background-color: #f0f0f2;\\n        margin: 0;\\n        padding: 0;\\n        font-family: -apple-system, system-ui, BlinkMacSystemFont, \"Segoe UI\", \"Open Sans\", \"Helvetica Neue\", Helvetica, Arial, sans-serif;\\n        \\n    }\\n    div {\\n        width: 600px;\\n        margin: 5em auto;\\n        padding: 2em;\\n        background-color: #fdfdff;\\n        border-radius: 0.5em;\\n        box-shadow: 2px 3px 7px 2px rgba(0,0,0,0.02);\\n    }\\n    a:link, a:visited {\\n        color: #38488f;\\n        text-decoration: none;\\n    }\\n    @media (max-width: 700px) {\\n        div {\\n            margin: 0 auto;\\n            width: auto;\\n        }\\n    }\\n    </style>    \\n</head>\\n\\n<body>\\n<div>\\n    <h1>Example Domain</h1>\\n    <p>This domain is for use in illustrative examples in documents. You may use this\\n    domain in literature without prior coordination or asking for permission.</p>\\n    <p><a href=\"https://www.iana.org/domains/example\">More information...</a></p>\\n</div>\\n</body>\\n</html>\\n'"
      ]
     },
     "execution_count": 5,
     "metadata": {},
     "output_type": "execute_result"
    }
   ],
   "source": [
    "result.text"
   ]
  },
  {
   "cell_type": "code",
   "execution_count": 6,
   "id": "ae39b960",
   "metadata": {},
   "outputs": [],
   "source": [
    "import bs4"
   ]
  },
  {
   "cell_type": "code",
   "execution_count": 7,
   "id": "08ffd4c9",
   "metadata": {},
   "outputs": [],
   "source": [
    "soup = bs4.BeautifulSoup(result.text,\"lxml\")"
   ]
  },
  {
   "cell_type": "code",
   "execution_count": 8,
   "id": "13179db2",
   "metadata": {},
   "outputs": [
    {
     "data": {
      "text/plain": [
       "<!DOCTYPE html>\n",
       "<html>\n",
       "<head>\n",
       "<title>Example Domain</title>\n",
       "<meta charset=\"utf-8\"/>\n",
       "<meta content=\"text/html; charset=utf-8\" http-equiv=\"Content-type\"/>\n",
       "<meta content=\"width=device-width, initial-scale=1\" name=\"viewport\"/>\n",
       "<style type=\"text/css\">\n",
       "    body {\n",
       "        background-color: #f0f0f2;\n",
       "        margin: 0;\n",
       "        padding: 0;\n",
       "        font-family: -apple-system, system-ui, BlinkMacSystemFont, \"Segoe UI\", \"Open Sans\", \"Helvetica Neue\", Helvetica, Arial, sans-serif;\n",
       "        \n",
       "    }\n",
       "    div {\n",
       "        width: 600px;\n",
       "        margin: 5em auto;\n",
       "        padding: 2em;\n",
       "        background-color: #fdfdff;\n",
       "        border-radius: 0.5em;\n",
       "        box-shadow: 2px 3px 7px 2px rgba(0,0,0,0.02);\n",
       "    }\n",
       "    a:link, a:visited {\n",
       "        color: #38488f;\n",
       "        text-decoration: none;\n",
       "    }\n",
       "    @media (max-width: 700px) {\n",
       "        div {\n",
       "            margin: 0 auto;\n",
       "            width: auto;\n",
       "        }\n",
       "    }\n",
       "    </style>\n",
       "</head>\n",
       "<body>\n",
       "<div>\n",
       "<h1>Example Domain</h1>\n",
       "<p>This domain is for use in illustrative examples in documents. You may use this\n",
       "    domain in literature without prior coordination or asking for permission.</p>\n",
       "<p><a href=\"https://www.iana.org/domains/example\">More information...</a></p>\n",
       "</div>\n",
       "</body>\n",
       "</html>"
      ]
     },
     "execution_count": 8,
     "metadata": {},
     "output_type": "execute_result"
    }
   ],
   "source": [
    "soup"
   ]
  },
  {
   "cell_type": "code",
   "execution_count": 9,
   "id": "22a09a62",
   "metadata": {},
   "outputs": [
    {
     "data": {
      "text/plain": [
       "[<title>Example Domain</title>]"
      ]
     },
     "execution_count": 9,
     "metadata": {},
     "output_type": "execute_result"
    }
   ],
   "source": [
    "soup.select('title')"
   ]
  },
  {
   "cell_type": "code",
   "execution_count": 10,
   "id": "4128e9cf",
   "metadata": {},
   "outputs": [
    {
     "data": {
      "text/plain": [
       "[<p>This domain is for use in illustrative examples in documents. You may use this\n",
       "     domain in literature without prior coordination or asking for permission.</p>,\n",
       " <p><a href=\"https://www.iana.org/domains/example\">More information...</a></p>]"
      ]
     },
     "execution_count": 10,
     "metadata": {},
     "output_type": "execute_result"
    }
   ],
   "source": [
    "soup.select('p')"
   ]
  },
  {
   "cell_type": "code",
   "execution_count": 11,
   "id": "f3f3cb29",
   "metadata": {},
   "outputs": [
    {
     "data": {
      "text/plain": [
       "[<h1>Example Domain</h1>]"
      ]
     },
     "execution_count": 11,
     "metadata": {},
     "output_type": "execute_result"
    }
   ],
   "source": [
    "soup.select('h1')"
   ]
  },
  {
   "cell_type": "code",
   "execution_count": 14,
   "id": "ce7ce55c",
   "metadata": {},
   "outputs": [
    {
     "data": {
      "text/plain": [
       "'Example Domain'"
      ]
     },
     "execution_count": 14,
     "metadata": {},
     "output_type": "execute_result"
    }
   ],
   "source": [
    "soup.select('title')[0].getText()"
   ]
  },
  {
   "cell_type": "code",
   "execution_count": 15,
   "id": "3b817777",
   "metadata": {},
   "outputs": [],
   "source": [
    "site_paragraphs = soup.select(\"p\")"
   ]
  },
  {
   "cell_type": "code",
   "execution_count": 16,
   "id": "da5260e6",
   "metadata": {},
   "outputs": [
    {
     "data": {
      "text/plain": [
       "[<p>This domain is for use in illustrative examples in documents. You may use this\n",
       "     domain in literature without prior coordination or asking for permission.</p>,\n",
       " <p><a href=\"https://www.iana.org/domains/example\">More information...</a></p>]"
      ]
     },
     "execution_count": 16,
     "metadata": {},
     "output_type": "execute_result"
    }
   ],
   "source": [
    "site_paragraphs"
   ]
  },
  {
   "cell_type": "code",
   "execution_count": 17,
   "id": "3ddffd5c",
   "metadata": {},
   "outputs": [
    {
     "data": {
      "text/plain": [
       "<p>This domain is for use in illustrative examples in documents. You may use this\n",
       "    domain in literature without prior coordination or asking for permission.</p>"
      ]
     },
     "execution_count": 17,
     "metadata": {},
     "output_type": "execute_result"
    }
   ],
   "source": [
    "site_paragraphs[0]"
   ]
  },
  {
   "cell_type": "code",
   "execution_count": 18,
   "id": "7d71611e",
   "metadata": {},
   "outputs": [
    {
     "data": {
      "text/plain": [
       "bs4.element.Tag"
      ]
     },
     "execution_count": 18,
     "metadata": {},
     "output_type": "execute_result"
    }
   ],
   "source": [
    "type(site_paragraphs[0])"
   ]
  },
  {
   "cell_type": "code",
   "execution_count": 19,
   "id": "be66b85e",
   "metadata": {},
   "outputs": [
    {
     "data": {
      "text/plain": [
       "'This domain is for use in illustrative examples in documents. You may use this\\n    domain in literature without prior coordination or asking for permission.'"
      ]
     },
     "execution_count": 19,
     "metadata": {},
     "output_type": "execute_result"
    }
   ],
   "source": [
    "site_paragraphs[0].getText()"
   ]
  },
  {
   "cell_type": "code",
   "execution_count": 20,
   "id": "cdb92f21",
   "metadata": {},
   "outputs": [],
   "source": [
    "res = requests.get('https://en.wikipedia.org/wiki/Roy_Keane')"
   ]
  },
  {
   "cell_type": "code",
   "execution_count": 21,
   "id": "35afaa19",
   "metadata": {},
   "outputs": [],
   "source": [
    "soup = bs4.BeautifulSoup(res.text,\"lxml\")"
   ]
  },
  {
   "cell_type": "code",
   "execution_count": 23,
   "id": "689259da",
   "metadata": {},
   "outputs": [],
   "source": [
    "# soup"
   ]
  },
  {
   "cell_type": "code",
   "execution_count": 25,
   "id": "cadc540b",
   "metadata": {},
   "outputs": [
    {
     "data": {
      "text/plain": [
       "[<span class=\"toctext\">Early life</span>,\n",
       " <span class=\"toctext\">Club career</span>,\n",
       " <span class=\"toctext\">Cobh Ramblers</span>,\n",
       " <span class=\"toctext\">Nottingham Forest</span>,\n",
       " <span class=\"toctext\">Manchester United</span>,\n",
       " <span class=\"toctext\">Early years: 1993–97</span>,\n",
       " <span class=\"toctext\">Captaincy: 1997–2005</span>,\n",
       " <span class=\"toctext\">Alf-Inge Håland incident</span>,\n",
       " <span class=\"toctext\">Later career: 2001–2005</span>,\n",
       " <span class=\"toctext\">Departure</span>,\n",
       " <span class=\"toctext\">Celtic</span>,\n",
       " <span class=\"toctext\">International career</span>,\n",
       " <span class=\"toctext\">2002 FIFA World Cup incident</span>,\n",
       " <span class=\"toctext\">Recall</span>,\n",
       " <span class=\"toctext\">Post-retirement</span>,\n",
       " <span class=\"toctext\">Coaching career</span>,\n",
       " <span class=\"toctext\">Sunderland</span>,\n",
       " <span class=\"toctext\">Ipswich Town</span>,\n",
       " <span class=\"toctext\">National team</span>,\n",
       " <span class=\"toctext\">Aston Villa</span>,\n",
       " <span class=\"toctext\">Nottingham Forest</span>,\n",
       " <span class=\"toctext\">Outside football</span>,\n",
       " <span class=\"toctext\">Media career</span>,\n",
       " <span class=\"toctext\">Personal life</span>,\n",
       " <span class=\"toctext\">Triggs</span>,\n",
       " <span class=\"toctext\">Style of play</span>,\n",
       " <span class=\"toctext\">Career statistics</span>,\n",
       " <span class=\"toctext\">Club</span>,\n",
       " <span class=\"toctext\">International</span>,\n",
       " <span class=\"toctext\">Managerial statistics</span>,\n",
       " <span class=\"toctext\">Honours</span>,\n",
       " <span class=\"toctext\">As a player</span>,\n",
       " <span class=\"toctext\">As a manager</span>,\n",
       " <span class=\"toctext\">Orders and special awards</span>,\n",
       " <span class=\"toctext\">See also</span>,\n",
       " <span class=\"toctext\">Notes</span>,\n",
       " <span class=\"toctext\">References</span>,\n",
       " <span class=\"toctext\">External links</span>]"
      ]
     },
     "execution_count": 25,
     "metadata": {},
     "output_type": "execute_result"
    }
   ],
   "source": [
    "soup.select('.toctext')"
   ]
  },
  {
   "cell_type": "code",
   "execution_count": 27,
   "id": "abd4f7b5",
   "metadata": {},
   "outputs": [],
   "source": [
    "first_item = soup.select('.toctext')[0]"
   ]
  },
  {
   "cell_type": "code",
   "execution_count": 28,
   "id": "d3ca6358",
   "metadata": {},
   "outputs": [
    {
     "data": {
      "text/plain": [
       "<span class=\"toctext\">Early life</span>"
      ]
     },
     "execution_count": 28,
     "metadata": {},
     "output_type": "execute_result"
    }
   ],
   "source": [
    "first_item"
   ]
  },
  {
   "cell_type": "code",
   "execution_count": 29,
   "id": "2550fa29",
   "metadata": {},
   "outputs": [
    {
     "data": {
      "text/plain": [
       "'Early life'"
      ]
     },
     "execution_count": 29,
     "metadata": {},
     "output_type": "execute_result"
    }
   ],
   "source": [
    "first_item.text"
   ]
  },
  {
   "cell_type": "code",
   "execution_count": 30,
   "id": "20d4c8c2",
   "metadata": {},
   "outputs": [
    {
     "name": "stdout",
     "output_type": "stream",
     "text": [
      "Early life\n",
      "Club career\n",
      "Cobh Ramblers\n",
      "Nottingham Forest\n",
      "Manchester United\n",
      "Early years: 1993–97\n",
      "Captaincy: 1997–2005\n",
      "Alf-Inge Håland incident\n",
      "Later career: 2001–2005\n",
      "Departure\n",
      "Celtic\n",
      "International career\n",
      "2002 FIFA World Cup incident\n",
      "Recall\n",
      "Post-retirement\n",
      "Coaching career\n",
      "Sunderland\n",
      "Ipswich Town\n",
      "National team\n",
      "Aston Villa\n",
      "Nottingham Forest\n",
      "Outside football\n",
      "Media career\n",
      "Personal life\n",
      "Triggs\n",
      "Style of play\n",
      "Career statistics\n",
      "Club\n",
      "International\n",
      "Managerial statistics\n",
      "Honours\n",
      "As a player\n",
      "As a manager\n",
      "Orders and special awards\n",
      "See also\n",
      "Notes\n",
      "References\n",
      "External links\n"
     ]
    }
   ],
   "source": [
    "for item in soup.select('.toctext'):\n",
    "    print(item.text)"
   ]
  },
  {
   "cell_type": "code",
   "execution_count": 31,
   "id": "2ed43053",
   "metadata": {},
   "outputs": [],
   "source": [
    "res = requests.get(\"https://en.wikipedia.org/wiki/Roy_Keane\")"
   ]
  },
  {
   "cell_type": "code",
   "execution_count": 38,
   "id": "7ffebd8e",
   "metadata": {},
   "outputs": [],
   "source": [
    "soup = bs4.BeautifulSoup(res.text,\"lxml\")"
   ]
  },
  {
   "cell_type": "code",
   "execution_count": 42,
   "id": "4a953166",
   "metadata": {},
   "outputs": [
    {
     "data": {
      "text/plain": [
       "[<img alt=\"\" class=\"thumbimage\" data-file-height=\"607\" data-file-width=\"380\" decoding=\"async\" height=\"351\" src=\"//upload.wikimedia.org/wikipedia/commons/thumb/6/6e/Roy_Keane_cropped.jpg/220px-Roy_Keane_cropped.jpg\" srcset=\"//upload.wikimedia.org/wikipedia/commons/thumb/6/6e/Roy_Keane_cropped.jpg/330px-Roy_Keane_cropped.jpg 1.5x, //upload.wikimedia.org/wikipedia/commons/6/6e/Roy_Keane_cropped.jpg 2x\" width=\"220\"/>,\n",
       " <img alt=\"\" class=\"thumbimage\" data-file-height=\"746\" data-file-width=\"1031\" decoding=\"async\" height=\"159\" src=\"//upload.wikimedia.org/wikipedia/commons/thumb/a/a8/1999_FA_Cup_Final_trophy_presentation_%28cropped%29.jpg/220px-1999_FA_Cup_Final_trophy_presentation_%28cropped%29.jpg\" srcset=\"//upload.wikimedia.org/wikipedia/commons/thumb/a/a8/1999_FA_Cup_Final_trophy_presentation_%28cropped%29.jpg/330px-1999_FA_Cup_Final_trophy_presentation_%28cropped%29.jpg 1.5x, //upload.wikimedia.org/wikipedia/commons/thumb/a/a8/1999_FA_Cup_Final_trophy_presentation_%28cropped%29.jpg/440px-1999_FA_Cup_Final_trophy_presentation_%28cropped%29.jpg 2x\" width=\"220\"/>]"
      ]
     },
     "execution_count": 42,
     "metadata": {},
     "output_type": "execute_result"
    }
   ],
   "source": [
    "soup.select('.thumbimage')"
   ]
  },
  {
   "cell_type": "code",
   "execution_count": 43,
   "id": "ee1165b6",
   "metadata": {},
   "outputs": [],
   "source": [
    "facup = soup.select('.thumbimage')[1]"
   ]
  },
  {
   "cell_type": "code",
   "execution_count": 44,
   "id": "982e1391",
   "metadata": {},
   "outputs": [
    {
     "data": {
      "text/plain": [
       "<img alt=\"\" class=\"thumbimage\" data-file-height=\"746\" data-file-width=\"1031\" decoding=\"async\" height=\"159\" src=\"//upload.wikimedia.org/wikipedia/commons/thumb/a/a8/1999_FA_Cup_Final_trophy_presentation_%28cropped%29.jpg/220px-1999_FA_Cup_Final_trophy_presentation_%28cropped%29.jpg\" srcset=\"//upload.wikimedia.org/wikipedia/commons/thumb/a/a8/1999_FA_Cup_Final_trophy_presentation_%28cropped%29.jpg/330px-1999_FA_Cup_Final_trophy_presentation_%28cropped%29.jpg 1.5x, //upload.wikimedia.org/wikipedia/commons/thumb/a/a8/1999_FA_Cup_Final_trophy_presentation_%28cropped%29.jpg/440px-1999_FA_Cup_Final_trophy_presentation_%28cropped%29.jpg 2x\" width=\"220\"/>"
      ]
     },
     "execution_count": 44,
     "metadata": {},
     "output_type": "execute_result"
    }
   ],
   "source": [
    "facup"
   ]
  },
  {
   "cell_type": "code",
   "execution_count": 45,
   "id": "211d02a3",
   "metadata": {},
   "outputs": [
    {
     "data": {
      "text/plain": [
       "'//upload.wikimedia.org/wikipedia/commons/thumb/a/a8/1999_FA_Cup_Final_trophy_presentation_%28cropped%29.jpg/220px-1999_FA_Cup_Final_trophy_presentation_%28cropped%29.jpg'"
      ]
     },
     "execution_count": 45,
     "metadata": {},
     "output_type": "execute_result"
    }
   ],
   "source": [
    "facup['src']"
   ]
  },
  {
   "cell_type": "markdown",
   "id": "1d80abd0",
   "metadata": {},
   "source": [
    "<img src=\"//upload.wikimedia.org/wikipedia/commons/thumb/a/a8/1999_FA_Cup_Final_trophy_presentation_%28cropped%29.jpg/220px-1999_FA_Cup_Final_trophy_presentation_%28cropped%29.jpg\">\n"
   ]
  },
  {
   "cell_type": "code",
   "execution_count": 46,
   "id": "c15d002c",
   "metadata": {},
   "outputs": [],
   "source": [
    "image_link = requests.get('https://upload.wikimedia.org/wikipedia/commons/thumb/a/a8/1999_FA_Cup_Final_trophy_presentation_%28cropped%29.jpg/220px-1999_FA_Cup_Final_trophy_presentation_%28cropped%29.jpg')"
   ]
  },
  {
   "cell_type": "code",
   "execution_count": 48,
   "id": "9f6cd992",
   "metadata": {},
   "outputs": [],
   "source": [
    "# image_link.content"
   ]
  },
  {
   "cell_type": "code",
   "execution_count": 49,
   "id": "c17fea40",
   "metadata": {},
   "outputs": [],
   "source": [
    "f = open('my_computer_image.jpg','wb')"
   ]
  },
  {
   "cell_type": "code",
   "execution_count": 50,
   "id": "46d2c288",
   "metadata": {},
   "outputs": [
    {
     "data": {
      "text/plain": [
       "21271"
      ]
     },
     "execution_count": 50,
     "metadata": {},
     "output_type": "execute_result"
    }
   ],
   "source": [
    "f.write(image_link.content)"
   ]
  },
  {
   "cell_type": "code",
   "execution_count": 51,
   "id": "9c7507b7",
   "metadata": {},
   "outputs": [],
   "source": [
    "f.close()"
   ]
  }
 ],
 "metadata": {
  "kernelspec": {
   "display_name": "Python 3",
   "language": "python",
   "name": "python3"
  },
  "language_info": {
   "codemirror_mode": {
    "name": "ipython",
    "version": 3
   },
   "file_extension": ".py",
   "mimetype": "text/x-python",
   "name": "python",
   "nbconvert_exporter": "python",
   "pygments_lexer": "ipython3",
   "version": "3.8.8"
  }
 },
 "nbformat": 4,
 "nbformat_minor": 5
}
