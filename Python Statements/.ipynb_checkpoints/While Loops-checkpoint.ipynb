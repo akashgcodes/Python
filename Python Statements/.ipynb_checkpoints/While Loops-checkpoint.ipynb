{
 "cells": [
  {
   "cell_type": "code",
   "execution_count": 7,
   "id": "e92be984",
   "metadata": {},
   "outputs": [
    {
     "name": "stdout",
     "output_type": "stream",
     "text": [
      "X IS NOT LESS THAN 5\n"
     ]
    }
   ],
   "source": [
    "x = 50\n",
    "\n",
    "while x < 5:\n",
    "    print(f'The current value of x is {x}')\n",
    "    x += 1\n",
    "else:\n",
    "    print(\"X IS NOT LESS THAN 5\")"
   ]
  },
  {
   "cell_type": "code",
   "execution_count": 9,
   "id": "09e46a97",
   "metadata": {},
   "outputs": [
    {
     "name": "stdout",
     "output_type": "stream",
     "text": [
      "end of my script\n"
     ]
    }
   ],
   "source": [
    "x = [1,2,3]\n",
    "\n",
    "for item in x:\n",
    "    # comment\n",
    "    pass\n",
    "\n",
    "print('end of my script')"
   ]
  },
  {
   "cell_type": "code",
   "execution_count": 10,
   "id": "ec1fa71f",
   "metadata": {},
   "outputs": [],
   "source": [
    "mystring = 'Sammy'"
   ]
  },
  {
   "cell_type": "code",
   "execution_count": 11,
   "id": "0dc417a8",
   "metadata": {},
   "outputs": [
    {
     "name": "stdout",
     "output_type": "stream",
     "text": [
      "S\n",
      "m\n",
      "m\n",
      "y\n"
     ]
    }
   ],
   "source": [
    "for letter in mystring:\n",
    "    if letter == 'a':\n",
    "        continue\n",
    "    print(letter)"
   ]
  },
  {
   "cell_type": "code",
   "execution_count": 12,
   "id": "d8e18757",
   "metadata": {},
   "outputs": [
    {
     "name": "stdout",
     "output_type": "stream",
     "text": [
      "S\n"
     ]
    }
   ],
   "source": [
    "for letter in mystring:\n",
    "    if letter == 'a':\n",
    "        break\n",
    "    print(letter)"
   ]
  },
  {
   "cell_type": "code",
   "execution_count": 15,
   "id": "41be9337",
   "metadata": {},
   "outputs": [
    {
     "name": "stdout",
     "output_type": "stream",
     "text": [
      "0\n",
      "1\n"
     ]
    }
   ],
   "source": [
    "x = 0\n",
    "\n",
    "while x < 5:\n",
    "    \n",
    "    if x == 2:\n",
    "        break\n",
    "    print(x)\n",
    "    x += 1"
   ]
  }
 ],
 "metadata": {
  "kernelspec": {
   "display_name": "Python 3",
   "language": "python",
   "name": "python3"
  },
  "language_info": {
   "codemirror_mode": {
    "name": "ipython",
    "version": 3
   },
   "file_extension": ".py",
   "mimetype": "text/x-python",
   "name": "python",
   "nbconvert_exporter": "python",
   "pygments_lexer": "ipython3",
   "version": "3.8.8"
  }
 },
 "nbformat": 4,
 "nbformat_minor": 5
}
