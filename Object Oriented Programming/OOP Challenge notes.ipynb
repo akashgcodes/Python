{
 "cells": [
  {
   "cell_type": "code",
   "execution_count": 7,
   "id": "22da0d70",
   "metadata": {},
   "outputs": [],
   "source": [
    "class Simple():\n",
    "    \n",
    "    def __init__(self,value):\n",
    "        self.value = value\n",
    "        \n",
    "    def add_to_value(self,amount):\n",
    "        \n",
    "        self.value = self.value + amount\n",
    "        print(\"We just added {} to your value\".format(amount))"
   ]
  },
  {
   "cell_type": "code",
   "execution_count": 8,
   "id": "74c8906b",
   "metadata": {},
   "outputs": [],
   "source": [
    "myobj = Simple(300)"
   ]
  },
  {
   "cell_type": "code",
   "execution_count": 9,
   "id": "972b4a46",
   "metadata": {},
   "outputs": [
    {
     "data": {
      "text/plain": [
       "300"
      ]
     },
     "execution_count": 9,
     "metadata": {},
     "output_type": "execute_result"
    }
   ],
   "source": [
    "myobj.value"
   ]
  },
  {
   "cell_type": "code",
   "execution_count": 10,
   "id": "46c45c78",
   "metadata": {},
   "outputs": [
    {
     "name": "stdout",
     "output_type": "stream",
     "text": [
      "We just added 500 to your value\n"
     ]
    }
   ],
   "source": [
    "myobj.add_to_value(500)"
   ]
  },
  {
   "cell_type": "code",
   "execution_count": 11,
   "id": "ed53ea77",
   "metadata": {},
   "outputs": [
    {
     "data": {
      "text/plain": [
       "800"
      ]
     },
     "execution_count": 11,
     "metadata": {},
     "output_type": "execute_result"
    }
   ],
   "source": [
    "myobj.value"
   ]
  }
 ],
 "metadata": {
  "kernelspec": {
   "display_name": "Python 3",
   "language": "python",
   "name": "python3"
  },
  "language_info": {
   "codemirror_mode": {
    "name": "ipython",
    "version": 3
   },
   "file_extension": ".py",
   "mimetype": "text/x-python",
   "name": "python",
   "nbconvert_exporter": "python",
   "pygments_lexer": "ipython3",
   "version": "3.8.8"
  }
 },
 "nbformat": 4,
 "nbformat_minor": 5
}
