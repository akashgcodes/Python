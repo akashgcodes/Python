{
 "cells": [
  {
   "cell_type": "code",
   "execution_count": 1,
   "id": "a7bb9072",
   "metadata": {},
   "outputs": [],
   "source": [
    "import re"
   ]
  },
  {
   "cell_type": "code",
   "execution_count": 5,
   "id": "35d7cb80",
   "metadata": {},
   "outputs": [
    {
     "data": {
      "text/plain": [
       "<re.Match object; span=(4, 7), match='cat'>"
      ]
     },
     "execution_count": 5,
     "metadata": {},
     "output_type": "execute_result"
    }
   ],
   "source": [
    "re.search(r'cat|dog','The cat is here')"
   ]
  },
  {
   "cell_type": "code",
   "execution_count": 9,
   "id": "057bb4f8",
   "metadata": {},
   "outputs": [
    {
     "data": {
      "text/plain": [
       "['e cat', 'e hat', 'splat']"
      ]
     },
     "execution_count": 9,
     "metadata": {},
     "output_type": "execute_result"
    }
   ],
   "source": [
    "re.findall(r'...at','The cat in the hat went splat.')"
   ]
  },
  {
   "cell_type": "code",
   "execution_count": 12,
   "id": "de5f74bb",
   "metadata": {},
   "outputs": [
    {
     "data": {
      "text/plain": [
       "['2']"
      ]
     },
     "execution_count": 12,
     "metadata": {},
     "output_type": "execute_result"
    }
   ],
   "source": [
    "re.findall(r'^\\d','2 is a number')"
   ]
  },
  {
   "cell_type": "code",
   "execution_count": 14,
   "id": "98cc23bf",
   "metadata": {},
   "outputs": [
    {
     "data": {
      "text/plain": [
       "['2']"
      ]
     },
     "execution_count": 14,
     "metadata": {},
     "output_type": "execute_result"
    }
   ],
   "source": [
    "re.findall(r'\\d$','The number is 2')"
   ]
  },
  {
   "cell_type": "code",
   "execution_count": 15,
   "id": "744c2c02",
   "metadata": {},
   "outputs": [],
   "source": [
    "phrase = 'there are 3 numbers 34 inside 5 this sentence'"
   ]
  },
  {
   "cell_type": "code",
   "execution_count": 18,
   "id": "50ea1a90",
   "metadata": {},
   "outputs": [],
   "source": [
    "pattern = r'[^\\d]+'"
   ]
  },
  {
   "cell_type": "code",
   "execution_count": 19,
   "id": "7411017c",
   "metadata": {},
   "outputs": [
    {
     "data": {
      "text/plain": [
       "['there are ', ' numbers ', ' inside ', ' this sentence']"
      ]
     },
     "execution_count": 19,
     "metadata": {},
     "output_type": "execute_result"
    }
   ],
   "source": [
    "re.findall(pattern,phrase)"
   ]
  },
  {
   "cell_type": "code",
   "execution_count": 20,
   "id": "c59b0310",
   "metadata": {},
   "outputs": [],
   "source": [
    "test_phrase = 'This is a string! But it has punctuation. How can we remove it?'"
   ]
  },
  {
   "cell_type": "code",
   "execution_count": 23,
   "id": "78cdfffc",
   "metadata": {},
   "outputs": [],
   "source": [
    "clean = re.findall(r'[^!.? ]+',test_phrase)"
   ]
  },
  {
   "cell_type": "code",
   "execution_count": 25,
   "id": "9520bdc5",
   "metadata": {},
   "outputs": [
    {
     "data": {
      "text/plain": [
       "'This is a string But it has punctuation How can we remove it'"
      ]
     },
     "execution_count": 25,
     "metadata": {},
     "output_type": "execute_result"
    }
   ],
   "source": [
    "' '.join(clean)"
   ]
  },
  {
   "cell_type": "code",
   "execution_count": 26,
   "id": "64c6d83d",
   "metadata": {},
   "outputs": [],
   "source": [
    "text = 'Only find the hyphen-words in this sentence. But you do not know how long-ish they are'"
   ]
  },
  {
   "cell_type": "code",
   "execution_count": 31,
   "id": "de673afa",
   "metadata": {},
   "outputs": [],
   "source": [
    "pattern = r'[\\w]+-[\\w]+'"
   ]
  },
  {
   "cell_type": "code",
   "execution_count": 32,
   "id": "56b0db3d",
   "metadata": {},
   "outputs": [
    {
     "data": {
      "text/plain": [
       "['hyphen-words', 'long-ish']"
      ]
     },
     "execution_count": 32,
     "metadata": {},
     "output_type": "execute_result"
    }
   ],
   "source": [
    "re.findall(pattern,text)"
   ]
  },
  {
   "cell_type": "code",
   "execution_count": 33,
   "id": "863758cf",
   "metadata": {},
   "outputs": [],
   "source": [
    "# Find words that start with cat and end with one of these options: 'fish','nap', or 'claw'\n",
    "text = 'Hello, would you like some catfish?'\n",
    "texttwo = \"Hello, would you like to take a catnap?\"\n",
    "textthree = \"Hello, have you seen this caterpillar?\""
   ]
  },
  {
   "cell_type": "code",
   "execution_count": 34,
   "id": "f17f7123",
   "metadata": {},
   "outputs": [
    {
     "data": {
      "text/plain": [
       "<re.Match object; span=(27, 34), match='catfish'>"
      ]
     },
     "execution_count": 34,
     "metadata": {},
     "output_type": "execute_result"
    }
   ],
   "source": [
    "re.search(r'cat(fish|nap|claw)',text)"
   ]
  },
  {
   "cell_type": "code",
   "execution_count": 35,
   "id": "db039802",
   "metadata": {},
   "outputs": [
    {
     "data": {
      "text/plain": [
       "<re.Match object; span=(32, 38), match='catnap'>"
      ]
     },
     "execution_count": 35,
     "metadata": {},
     "output_type": "execute_result"
    }
   ],
   "source": [
    "re.search(r'cat(fish|nap|claw)',texttwo)"
   ]
  },
  {
   "cell_type": "code",
   "execution_count": 36,
   "id": "b90ab47a",
   "metadata": {},
   "outputs": [
    {
     "data": {
      "text/plain": [
       "<re.Match object; span=(26, 37), match='caterpillar'>"
      ]
     },
     "execution_count": 36,
     "metadata": {},
     "output_type": "execute_result"
    }
   ],
   "source": [
    "re.search(r'cat(fish|nap|erpillar)',textthree)"
   ]
  }
 ],
 "metadata": {
  "kernelspec": {
   "display_name": "Python 3",
   "language": "python",
   "name": "python3"
  },
  "language_info": {
   "codemirror_mode": {
    "name": "ipython",
    "version": 3
   },
   "file_extension": ".py",
   "mimetype": "text/x-python",
   "name": "python",
   "nbconvert_exporter": "python",
   "pygments_lexer": "ipython3",
   "version": "3.8.8"
  }
 },
 "nbformat": 4,
 "nbformat_minor": 5
}
