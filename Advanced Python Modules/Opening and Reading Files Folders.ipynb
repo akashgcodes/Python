{
 "cells": [
  {
   "cell_type": "code",
   "execution_count": 1,
   "id": "5dea6fa8",
   "metadata": {},
   "outputs": [
    {
     "data": {
      "text/plain": [
       "'D:\\\\Programming\\\\Python\\\\Advanced Python Modules'"
      ]
     },
     "execution_count": 1,
     "metadata": {},
     "output_type": "execute_result"
    }
   ],
   "source": [
    "pwd"
   ]
  },
  {
   "cell_type": "code",
   "execution_count": 2,
   "id": "d9f588b7",
   "metadata": {},
   "outputs": [],
   "source": [
    "f = open('practice.txt', 'w+')\n",
    "f.write('This is a test string')\n",
    "f.close()"
   ]
  },
  {
   "cell_type": "code",
   "execution_count": 3,
   "id": "feb1fef3",
   "metadata": {},
   "outputs": [],
   "source": [
    "import os"
   ]
  },
  {
   "cell_type": "code",
   "execution_count": 4,
   "id": "32c7b7ff",
   "metadata": {},
   "outputs": [
    {
     "data": {
      "text/plain": [
       "'D:\\\\Programming\\\\Python\\\\Advanced Python Modules'"
      ]
     },
     "execution_count": 4,
     "metadata": {},
     "output_type": "execute_result"
    }
   ],
   "source": [
    "os.getcwd()"
   ]
  },
  {
   "cell_type": "code",
   "execution_count": 5,
   "id": "d98e8eb5",
   "metadata": {},
   "outputs": [
    {
     "data": {
      "text/plain": [
       "['.ipynb_checkpoints',\n",
       " 'Collections Module.ipynb',\n",
       " 'Opening and Reading Files Folders.ipynb',\n",
       " 'practice.txt']"
      ]
     },
     "execution_count": 5,
     "metadata": {},
     "output_type": "execute_result"
    }
   ],
   "source": [
    "os.listdir()"
   ]
  },
  {
   "cell_type": "code",
   "execution_count": 6,
   "id": "a80d77c2",
   "metadata": {},
   "outputs": [
    {
     "data": {
      "text/plain": [
       "['Databases',\n",
       " 'github',\n",
       " 'Java',\n",
       " 'lib',\n",
       " 'Notes',\n",
       " 'Python',\n",
       " 'Python notes',\n",
       " 'Spring']"
      ]
     },
     "execution_count": 6,
     "metadata": {},
     "output_type": "execute_result"
    }
   ],
   "source": [
    "os.listdir('D:\\\\Programming\\\\')"
   ]
  },
  {
   "cell_type": "code",
   "execution_count": 7,
   "id": "d731e443",
   "metadata": {},
   "outputs": [],
   "source": [
    "import shutil"
   ]
  },
  {
   "cell_type": "code",
   "execution_count": 8,
   "id": "f1bdd85f",
   "metadata": {},
   "outputs": [
    {
     "data": {
      "text/plain": [
       "'D:\\\\Programming\\\\Python\\\\practice.txt'"
      ]
     },
     "execution_count": 8,
     "metadata": {},
     "output_type": "execute_result"
    }
   ],
   "source": [
    "shutil.move('practice.txt','D:\\\\Programming\\\\Python')"
   ]
  },
  {
   "cell_type": "code",
   "execution_count": 9,
   "id": "a9aaf0c3",
   "metadata": {},
   "outputs": [
    {
     "data": {
      "text/plain": [
       "['.ipynb_checkpoints',\n",
       " '00-Milestone-2-Warmup-Project.ipynb',\n",
       " '02-Errors and Exceptions Homework.ipynb',\n",
       " '02-Iterators and Generators Homework.ipynb',\n",
       " '02-Milestone Project 1 - Walkthrough Steps Workbook.ipynb',\n",
       " '02-Object Oriented Programming Homework.ipynb',\n",
       " '03-Function Practice Exercises.ipynb',\n",
       " '03-Milestone Project 1 - Complete Walkthrough Solution.ipynb',\n",
       " '04-OOP Challenge.ipynb',\n",
       " '07-Statements Assessment Test.ipynb',\n",
       " '09-Guessing Game Challenge.ipynb',\n",
       " '09-Objects and Data Structures Assessment Test.ipynb',\n",
       " 'Advanced Python Modules',\n",
       " 'args and kwargs.ipynb',\n",
       " 'Booleans.ipynb',\n",
       " 'Comparisin Operators with Logical Operators.ipynb',\n",
       " 'Comparison Operators.ipynb',\n",
       " 'Decorators.ipynb',\n",
       " 'Dictionaries.ipynb',\n",
       " 'Displaying Information.ipynb',\n",
       " 'Errors and Exception Handling Challenge.ipynb',\n",
       " 'Errors and Exception Handling.ipynb',\n",
       " 'For Loops.ipynb',\n",
       " 'Functions #1.ipynb',\n",
       " 'Functions #10.ipynb',\n",
       " 'Functions #2.ipynb',\n",
       " 'Functions #3.ipynb',\n",
       " 'Functions #4.ipynb',\n",
       " 'Functions #5.ipynb',\n",
       " 'Functions #6.ipynb',\n",
       " 'Functions #7.ipynb',\n",
       " 'Functions #8.ipynb',\n",
       " 'Functions #9.ipynb',\n",
       " 'Functions With Logic.ipynb',\n",
       " 'Functions.ipynb',\n",
       " 'Generators Challenge.ipynb',\n",
       " 'Generators.ipynb',\n",
       " 'If, elif, else Statements.ipynb',\n",
       " 'Interaction with Python Functions.ipynb',\n",
       " 'IO Files.ipynb',\n",
       " 'Lambda Expressions, Map and Filter.ipynb',\n",
       " 'List Comprehensions.ipynb',\n",
       " 'Lists.ipynb',\n",
       " 'Methods.ipynb',\n",
       " 'Milestone Project 2 - Card, Deck, Player Class, Game Logic.ipynb',\n",
       " 'Milestone Project 2 - Deck Class.ipynb',\n",
       " 'myfile.txt',\n",
       " 'my_new_file.txt',\n",
       " 'Nested Statements and Scope.ipynb',\n",
       " 'Numbers.ipynb',\n",
       " 'Object Oriented Programming - Attributes and Class Keyword.ipynb',\n",
       " 'Object Oriented Programming - Inheritance and Polymorphism.ipynb',\n",
       " 'Object Oriented Programming - Special(Magic,Dunder) Methods.ipynb',\n",
       " 'OOP Challenge notes.ipynb',\n",
       " 'OOP Challenge Solution.ipynb',\n",
       " 'practice.txt',\n",
       " 'sdgfdkfjbgdkfjb.txt',\n",
       " 'Sets.ipynb',\n",
       " 'Simple User Interaction.ipynb',\n",
       " 'String Formatting.ipynb',\n",
       " 'String Properties and Methods.ipynb',\n",
       " 'Strings.ipynb',\n",
       " 'testfile',\n",
       " 'Tuple Unpacking with Python Functions.ipynb',\n",
       " 'Tuples.ipynb',\n",
       " 'Useful Operators.ipynb',\n",
       " 'Variable Assignments.ipynb',\n",
       " 'While Loops.ipynb']"
      ]
     },
     "execution_count": 9,
     "metadata": {},
     "output_type": "execute_result"
    }
   ],
   "source": [
    "os.listdir('D:\\\\Programming\\\\Python')"
   ]
  },
  {
   "cell_type": "code",
   "execution_count": 10,
   "id": "22e89746",
   "metadata": {},
   "outputs": [],
   "source": [
    "import send2trash"
   ]
  },
  {
   "cell_type": "code",
   "execution_count": 11,
   "id": "f4d4f907",
   "metadata": {},
   "outputs": [
    {
     "data": {
      "text/plain": [
       "['.ipynb_checkpoints',\n",
       " 'Collections Module.ipynb',\n",
       " 'Opening and Reading Files Folders.ipynb']"
      ]
     },
     "execution_count": 11,
     "metadata": {},
     "output_type": "execute_result"
    }
   ],
   "source": [
    "os.listdir()"
   ]
  },
  {
   "cell_type": "code",
   "execution_count": 12,
   "id": "e7ac64cf",
   "metadata": {},
   "outputs": [
    {
     "data": {
      "text/plain": [
       "'D:\\\\Programming\\\\Python\\\\Advanced Python Modules\\\\practice.txt'"
      ]
     },
     "execution_count": 12,
     "metadata": {},
     "output_type": "execute_result"
    }
   ],
   "source": [
    "shutil.move('D:\\\\Programming\\\\Python\\\\practice.txt',os.getcwd())"
   ]
  },
  {
   "cell_type": "code",
   "execution_count": 13,
   "id": "549c348b",
   "metadata": {},
   "outputs": [
    {
     "data": {
      "text/plain": [
       "['.ipynb_checkpoints',\n",
       " 'Collections Module.ipynb',\n",
       " 'Opening and Reading Files Folders.ipynb',\n",
       " 'practice.txt']"
      ]
     },
     "execution_count": 13,
     "metadata": {},
     "output_type": "execute_result"
    }
   ],
   "source": [
    "os.listdir()"
   ]
  },
  {
   "cell_type": "code",
   "execution_count": 14,
   "id": "62419cf1",
   "metadata": {},
   "outputs": [],
   "source": [
    "send2trash.send2trash('practice.txt')"
   ]
  },
  {
   "cell_type": "code",
   "execution_count": 15,
   "id": "a5c1154e",
   "metadata": {},
   "outputs": [
    {
     "data": {
      "text/plain": [
       "['.ipynb_checkpoints',\n",
       " 'Collections Module.ipynb',\n",
       " 'Opening and Reading Files Folders.ipynb']"
      ]
     },
     "execution_count": 15,
     "metadata": {},
     "output_type": "execute_result"
    }
   ],
   "source": [
    "os.listdir()"
   ]
  },
  {
   "cell_type": "code",
   "execution_count": null,
   "id": "510afc57",
   "metadata": {},
   "outputs": [],
   "source": [
    "for folder, subfolders, files in os.walk()"
   ]
  }
 ],
 "metadata": {
  "kernelspec": {
   "display_name": "Python 3",
   "language": "python",
   "name": "python3"
  },
  "language_info": {
   "codemirror_mode": {
    "name": "ipython",
    "version": 3
   },
   "file_extension": ".py",
   "mimetype": "text/x-python",
   "name": "python",
   "nbconvert_exporter": "python",
   "pygments_lexer": "ipython3",
   "version": "3.8.8"
  }
 },
 "nbformat": 4,
 "nbformat_minor": 5
}
